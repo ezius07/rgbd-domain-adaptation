{
  "nbformat": 4,
  "nbformat_minor": 0,
  "metadata": {
    "colab": {
      "name": "RGB Project.ipynb",
      "provenance": [],
      "collapsed_sections": [],
      "toc_visible": true,
      "include_colab_link": true
    },
    "kernelspec": {
      "name": "python3",
      "display_name": "Python 3"
    }
  },
  "cells": [
    {
      "cell_type": "markdown",
      "metadata": {
        "id": "view-in-github",
        "colab_type": "text"
      },
      "source": [
        "<a href=\"https://colab.research.google.com/github/toyo97/rgbd-domain-adaptation/blob/master/RGB_Project.ipynb\" target=\"_parent\"><img src=\"https://colab.research.google.com/assets/colab-badge.svg\" alt=\"Open In Colab\"/></a>"
      ]
    },
    {
      "cell_type": "markdown",
      "metadata": {
        "id": "FGmTIKwsQEnA",
        "colab_type": "text"
      },
      "source": [
        "# GABRIELE"
      ]
    },
    {
      "cell_type": "markdown",
      "metadata": {
        "id": "s_ErvW7FxArb",
        "colab_type": "text"
      },
      "source": [
        "**Reading data**"
      ]
    },
    {
      "cell_type": "code",
      "metadata": {
        "id": "5amxwn1SQAdw",
        "colab_type": "code",
        "outputId": "1df5ec1b-ce34-4268-aaa4-8501a1086bf5",
        "colab": {
          "base_uri": "https://localhost:8080/",
          "height": 34
        }
      },
      "source": [
        "from google.colab import drive\n",
        "drive.mount(\"/content/drive/\")\n",
        "root = (\"drive/My Drive/RGB Project/\")"
      ],
      "execution_count": 14,
      "outputs": [
        {
          "output_type": "stream",
          "text": [
            "Drive already mounted at /content/drive/; to attempt to forcibly remount, call drive.mount(\"/content/drive/\", force_remount=True).\n"
          ],
          "name": "stdout"
        }
      ]
    },
    {
      "cell_type": "code",
      "metadata": {
        "id": "qjpFnf8Zvo50",
        "colab_type": "code",
        "colab": {}
      },
      "source": [
        "!unzip -q \"drive/My Drive/MLDL2020/ROD.zip\" -d \"RGB Project/\""
      ],
      "execution_count": 0,
      "outputs": []
    },
    {
      "cell_type": "code",
      "metadata": {
        "id": "kRL-9G73w6sW",
        "colab_type": "code",
        "colab": {}
      },
      "source": [
        "!unzip -q \"drive/My Drive/MLDL2020/synROD.zip\" -d \"RGB Project/\""
      ],
      "execution_count": 0,
      "outputs": []
    },
    {
      "cell_type": "code",
      "metadata": {
        "id": "axnIi5a6Qhwy",
        "colab_type": "code",
        "colab": {}
      },
      "source": [
        "from torchvision.datasets import VisionDataset\n",
        "\n",
        "from PIL import Image\n",
        "\n",
        "import os\n",
        "import os.path\n",
        "import sys\n",
        "\n",
        "\n",
        "def pil_loader(path):\n",
        "\n",
        "    with open(path, 'rb') as f:\n",
        "\n",
        "        img = Image.open(f)\n",
        "        return img.convert('RGB')\n",
        "\n",
        "\n",
        "class ROD(VisionDataset):\n",
        "  \n",
        "    def __init__(self, root, transform=None, target_transform=None):\n",
        "        super(ROD, self).__init__(root, transform=transform, target_transform=target_transform)\n",
        "\n",
        "        self.images=[]\n",
        "        self.categories={}\n",
        "\n",
        "\n",
        "        numCat = -1\n",
        "        RGB_folder = os.path.join(root,\"ROD\",\"ROD_rgb\")\n",
        "        depth_folder = os.path.join(root,\"ROD\",\"ROD_surfnorm\")\n",
        "        for class_object in sorted(os.listdir(RGB_folder)):\n",
        "          path = os.path.join(RGB_folder, class_object)\n",
        "          if os.path.isdir(path):\n",
        "            numCat+=1\n",
        "            for subfolder in os.listdir(path):\n",
        "              subpath = os.path.join(path, subfolder)\n",
        "              if os.path.isdir(subpath):\n",
        "                rgb_path = os.path.join(subpath, \"*.png\")\n",
        "                root_depth_path = os.path.join(depth_folder, class_object, subfolder)\n",
        "                for image_rgb in glob.glob(rgb_path):\n",
        "                  image_name = \"_\".join(image_rgb.split(\"/\")[-1].split(\"_\")[:-1]) + \"_depthcrop.png\"\n",
        "                  image_depth = os.path.join(root_depth_path, image_name)\n",
        "                  if os.path.isfile(image_depth):\n",
        "                    display(image_depth)\n",
        "                    self.images.append(((pil_loader(image_rgb), pil_loader(image_depth)), numCat))\n",
        "\n",
        "          \n",
        "\n",
        "    def __getitem__(self, index):\n",
        "\n",
        "        images, label = self.images[index] \n",
        "\n",
        "        if self.transform is not None:\n",
        "\n",
        "            image1 = self.transform(images[0])\n",
        "            image2 = self.transform(images[1])\n",
        "\n",
        "        return (image1,image2), label\n",
        "\n",
        "    def __len__(self):\n",
        "\n",
        "        length = len(self.images) \n",
        "\n",
        "        return length"
      ],
      "execution_count": 0,
      "outputs": []
    },
    {
      "cell_type": "code",
      "metadata": {
        "id": "eh8faOzES7hd",
        "colab_type": "code",
        "colab": {}
      },
      "source": [
        "class synROD(VisionDataset):\n",
        "  \n",
        "    def __init__(self, root, transform=None, target_transform=None):\n",
        "        super(ROD, self).__init__(root, transform=transform, target_transform=target_transform)\n",
        "\n",
        "\n",
        "        self.images=[]\n",
        "        self.categories={}\n",
        "\n",
        "        numCat = -1\n",
        "        for class_object in sorted(os.listdir(os.path.join(root,\"synROD\"))):\n",
        "          path = os.path.join(root,\"synROD\", class_object)\n",
        "          if os.path.isdir(path):\n",
        "            numCat+=1\n",
        "            rgb_path = os.path.join(path, \"rgb\", \"*.png\")\n",
        "            root_depth_path = os.path.join(path, \"depth\")\n",
        "            for image_rgb in glob.glob(rgb_path):\n",
        "              image_depth = os.path.join(root_depth_path, image_rgb.split(\"/\")[-1])\n",
        "              if os.path.isfile(image_depth):\n",
        "                self.images.append(((pil_loader(image_rgb), pil_loader(image_depth)), numCat))\n",
        "\n",
        "          \n",
        "\n",
        "    def __getitem__(self, index):\n",
        "\n",
        "        images, label = self.images[index] \n",
        "\n",
        "        if self.transform is not None:\n",
        "\n",
        "            image1 = self.transform(images[0])\n",
        "            image2 = self.transform(images[1])\n",
        "\n",
        "        return (image1,image2), label\n",
        "\n",
        "    def __len__(self):\n",
        "\n",
        "        length = len(self.images) \n",
        "\n",
        "        return length"
      ],
      "execution_count": 0,
      "outputs": []
    },
    {
      "cell_type": "code",
      "metadata": {
        "id": "3y-GYnnv2bH0",
        "colab_type": "code",
        "colab": {
          "base_uri": "https://localhost:8080/",
          "height": 34
        },
        "outputId": "ecf0c8cf-e65d-4d1f-891b-97ec2f73c650"
      },
      "source": [
        "source_dataset = synROD(\"RGB Project\", transform=?)\n",
        "target_dataset = ROD(\"RGB Project\", transform=?)"
      ],
      "execution_count": 5,
      "outputs": [
        {
          "output_type": "stream",
          "text": [
            "0\n"
          ],
          "name": "stdout"
        }
      ]
    },
    {
      "cell_type": "markdown",
      "metadata": {
        "id": "19ncNYfRQEuY",
        "colab_type": "text"
      },
      "source": [
        "#VITTORIO"
      ]
    },
    {
      "cell_type": "code",
      "metadata": {
        "id": "D1HK8SFjY-dx",
        "colab_type": "code",
        "outputId": "1d1b9282-48a5-4069-971d-d53a714c1ec3",
        "colab": {
          "base_uri": "https://localhost:8080/",
          "height": 102
        }
      },
      "source": [
        "!find \"/content/drive/.shortcut-targets-by-id/16wqOZSiZTtePcpIKmKI-vbC315ABUVuk/RGB Project/ROD/ROD_rgb/\" -iname *56_crop.png | head -5"
      ],
      "execution_count": 0,
      "outputs": [
        {
          "output_type": "stream",
          "text": [
            "/content/drive/.shortcut-targets-by-id/16wqOZSiZTtePcpIKmKI-vbC315ABUVuk/RGB Project/ROD/ROD_rgb/rubber_eraser/rubber_eraser_3/rubber_eraser_3_4_256_crop.png\n",
            "/content/drive/.shortcut-targets-by-id/16wqOZSiZTtePcpIKmKI-vbC315ABUVuk/RGB Project/ROD/ROD_rgb/rubber_eraser/rubber_eraser_3/rubber_eraser_3_4_56_crop.png\n",
            "/content/drive/.shortcut-targets-by-id/16wqOZSiZTtePcpIKmKI-vbC315ABUVuk/RGB Project/ROD/ROD_rgb/toothbrush/toothbrush_1/toothbrush_1_2_156_crop.png\n",
            "/content/drive/.shortcut-targets-by-id/16wqOZSiZTtePcpIKmKI-vbC315ABUVuk/RGB Project/ROD/ROD_rgb/toothbrush/toothbrush_1/toothbrush_1_1_156_crop.png\n",
            "/content/drive/.shortcut-targets-by-id/16wqOZSiZTtePcpIKmKI-vbC315ABUVuk/RGB Project/ROD/ROD_rgb/toothbrush/toothbrush_1/toothbrush_1_1_56_crop.png\n"
          ],
          "name": "stdout"
        }
      ]
    },
    {
      "cell_type": "markdown",
      "metadata": {
        "id": "WOrW18rDVSjo",
        "colab_type": "text"
      },
      "source": [
        "## Rotation transformation\n",
        "\n",
        "Source: https://pytorch.org/docs/stable/torchvision/transforms.html"
      ]
    },
    {
      "cell_type": "code",
      "metadata": {
        "id": "aIiDEI9oV_1D",
        "colab_type": "code",
        "outputId": "76e939c4-ffb2-4e95-9cc3-fd11300bb449",
        "colab": {
          "base_uri": "https://localhost:8080/",
          "height": 34
        }
      },
      "source": [
        "import torch\n",
        "\n",
        "a = torch.empty((30, 3, 32, 32))\n",
        "a.size()"
      ],
      "execution_count": 0,
      "outputs": [
        {
          "output_type": "execute_result",
          "data": {
            "text/plain": [
              "torch.Size([30, 3, 32, 32])"
            ]
          },
          "metadata": {
            "tags": []
          },
          "execution_count": 2
        }
      ]
    },
    {
      "cell_type": "code",
      "metadata": {
        "id": "UC9YaHIcWKJw",
        "colab_type": "code",
        "colab": {}
      },
      "source": [
        "for i in range(a.size()[0]):\n",
        "  a[i,:,:,:] = torch.randn((3,32,32))"
      ],
      "execution_count": 0,
      "outputs": []
    },
    {
      "cell_type": "code",
      "metadata": {
        "id": "7KpAZgABbhFT",
        "colab_type": "code",
        "colab": {}
      },
      "source": [
        "class UnNormalize(object):\n",
        "    def __init__(self, mean, std):\n",
        "        self.mean = mean\n",
        "        self.std = std\n",
        "\n",
        "    def __call__(self, tensor):\n",
        "        \"\"\"\n",
        "        Args:\n",
        "            tensor (Tensor): Tensor image of size (C, H, W) to be normalized.\n",
        "        Returns:\n",
        "            Tensor: Normalized image.\n",
        "        \"\"\"\n",
        "        new_tensor = torch.empty(tensor.size())\n",
        "        for i, t, m, s in zip(range(3), tensor, self.mean, self.std):\n",
        "            new_tensor[i,:,:] = t.mul(s).add(m)\n",
        "\n",
        "        return new_tensor"
      ],
      "execution_count": 0,
      "outputs": []
    },
    {
      "cell_type": "code",
      "metadata": {
        "id": "xoR2m0QG7XAq",
        "colab_type": "code",
        "colab": {}
      },
      "source": [
        "import torch\n",
        "import torchvision.transforms.functional as TF\n",
        "from torchvision import transforms\n",
        "import random\n",
        "import numpy as np\n",
        "\n",
        "def transform_batch(rgb_batch, depth_batch):\n",
        "  \"\"\"\n",
        "  params: both rgb_batch and depth_batch are tensors of shape (BATCH_SIZE, 3, 224, 224)\n",
        "  \"\"\"\n",
        "\n",
        "    # F: from normalized tensor, to unnormalized PIL image\n",
        "  F = transforms.Compose([\n",
        "                            UnNormalize(imgnet_mean, imgnet_std),\n",
        "                            transforms.ToPILImage()\n",
        "  ])\n",
        "    # G: inverseF\n",
        "  G = transforms.Compose([\n",
        "                          transforms.ToTensor(),\n",
        "                          transforms.Normalize(imgnet_mean, imgnet_std)\n",
        "  ])\n",
        "\n",
        "  # New batches with rotation labels\n",
        "  new_rgb_batch = torch.empty(rgb_batch.size())\n",
        "  new_depth_batch = torch.empty(depth_batch.size())\n",
        "  labels = torch.empty(rgb_batch.size()[0], dtype=torch.int)\n",
        "\n",
        "  for i in range(rgb_batch.size()[0]):\n",
        "    # denormalize and back to PIL image\n",
        "    rotated_images, labels[i] = coupled_rotation((F(rgb_batch[i,:,:,:]), F(depth_batch[i,:,:,:])))\n",
        "    new_rgb_batch[i,:,:,:], new_depth_batch[i,:,:,:] = G(rotated_images[0]), G(rotated_images[1])\n",
        "\n",
        "  return new_rgb_batch, new_depth_batch, labels\n",
        "  \n",
        "\n",
        "\n",
        "def coupled_rotation(image_tuple):\n",
        "\n",
        "  # FIXME one-hot-encoding not necessary. Using int labels [0,3] instead\n",
        "  def one_hot(n):\n",
        "    oen = torch.zeros(4)\n",
        "    oen[n] = 1\n",
        "    return oen\n",
        "\n",
        "  j = random.randint(0,3)\n",
        "  k = random.randint(0,3)\n",
        "\n",
        "  z = (k-j) % 4\n",
        "\n",
        "  # Note: TF.rotate is counter-clockwise\n",
        "  rotated_image_tuple = TF.rotate(image_tuple[0], 270*j), TF.rotate(image_tuple[1], 270*k)\n",
        "\n",
        "  return rotated_image_tuple, z"
      ],
      "execution_count": 0,
      "outputs": []
    },
    {
      "cell_type": "markdown",
      "metadata": {
        "id": "3pTkgSdOltHo",
        "colab_type": "text"
      },
      "source": [
        "**TEST**"
      ]
    },
    {
      "cell_type": "code",
      "metadata": {
        "id": "ydf5MOy-d0em",
        "colab_type": "code",
        "outputId": "6cd9ceae-bd7e-4f23-c311-c5fe78bb09ba",
        "colab": {
          "base_uri": "https://localhost:8080/",
          "height": 74
        }
      },
      "source": [
        "img_path_a = '/content/drive/.shortcut-targets-by-id/16wqOZSiZTtePcpIKmKI-vbC315ABUVuk/RGB Project/ROD/ROD_rgb/rubber_eraser/rubber_eraser_3/rubber_eraser_3_4_56_crop.png'\n",
        "a = Image.open(img_path_a).convert('RGB')\n",
        "\n",
        "display(a)"
      ],
      "execution_count": 0,
      "outputs": [
        {
          "output_type": "display_data",
          "data": {
            "image/png": "[encoded data removed]",
            "text/plain": [
              "<PIL.Image.Image image mode=RGB size=57x57 at 0x7FFA6219A710>"
            ]
          },
          "metadata": {
            "tags": []
          }
        }
      ]
    },
    {
      "cell_type": "code",
      "metadata": {
        "id": "26HzkiG0iVb6",
        "colab_type": "code",
        "outputId": "8cf6e910-f31c-4926-f363-52198dfae0c5",
        "colab": {
          "base_uri": "https://localhost:8080/",
          "height": 34
        }
      },
      "source": [
        "img_tensor = train_transform(a)\n",
        "img_batch = img_tensor.unsqueeze(0)\n",
        "img_batch.size()"
      ],
      "execution_count": 0,
      "outputs": [
        {
          "output_type": "execute_result",
          "data": {
            "text/plain": [
              "torch.Size([1, 3, 224, 224])"
            ]
          },
          "metadata": {
            "tags": []
          },
          "execution_count": 70
        }
      ]
    },
    {
      "cell_type": "code",
      "metadata": {
        "id": "T-m0SJqwiW6-",
        "colab_type": "code",
        "colab": {}
      },
      "source": [
        "rgb_batch, depth_batch, labels = transform_batch(img_batch, img_batch)"
      ],
      "execution_count": 0,
      "outputs": []
    },
    {
      "cell_type": "code",
      "metadata": {
        "id": "9uvKLg8PgraY",
        "colab_type": "code",
        "outputId": "9ca7a167-55fb-4f77-cfe9-83c7804c6253",
        "colab": {
          "base_uri": "https://localhost:8080/",
          "height": 499
        }
      },
      "source": [
        "F = transforms.Compose([\n",
        "                            UnNormalize(imgnet_mean, imgnet_std),\n",
        "                            transforms.ToPILImage()\n",
        "  ])\n",
        "\n",
        "display(F(rgb_batch.squeeze()))\n",
        "display(F(depth_batch.squeeze()))\n",
        "z = labels[0]\n",
        "print('\"How many times should the first image be rotated by 90 degrees clockwise to align with the second?\"')\n",
        "print(f'{z} time(s), i.e. relative rotation of {z * 90} degrees')"
      ],
      "execution_count": 0,
      "outputs": [
        {
          "output_type": "display_data",
          "data": {
            "image/png": "[encoded data removed]",
            "text/plain": [
              "<PIL.Image.Image image mode=RGB size=224x224 at 0x7FFA621386D8>"
            ]
          },
          "metadata": {
            "tags": []
          }
        },
        {
          "output_type": "display_data",
          "data": {
            "image/png": "[encoded data removed]",
            "text/plain": [
              "<PIL.Image.Image image mode=RGB size=224x224 at 0x7FFA62138630>"
            ]
          },
          "metadata": {
            "tags": []
          }
        },
        {
          "output_type": "stream",
          "text": [
            "\"How many times should the first image be rotated by 90 degrees clockwise to align with the second?\"\n",
            "3 time(s), i.e. relative rotation of 270 degrees\n"
          ],
          "name": "stdout"
        }
      ]
    },
    {
      "cell_type": "markdown",
      "metadata": {
        "id": "Ec2ug0JPCGyD",
        "colab_type": "text"
      },
      "source": [
        "**Imports**"
      ]
    },
    {
      "cell_type": "code",
      "metadata": {
        "id": "pRnMdjsICGQB",
        "colab_type": "code",
        "colab": {}
      },
      "source": [
        "import torch\n",
        "import torchvision\n",
        "from torchvision import transforms\n",
        "import torch.optim as optim\n",
        "import torch.nn as nn\n",
        "from torch.utils.data import Subset, DataLoader\n",
        "from torch.utils.data.dataset import random_split\n",
        "from torch.backends import cudnn"
      ],
      "execution_count": 0,
      "outputs": []
    },
    {
      "cell_type": "markdown",
      "metadata": {
        "id": "Yoxrk68AATTE",
        "colab_type": "text"
      },
      "source": [
        "**Hyperparameters**"
      ]
    },
    {
      "cell_type": "code",
      "metadata": {
        "id": "4EzWNsETASIN",
        "colab_type": "code",
        "colab": {}
      },
      "source": [
        "DEVICE = 'cuda'      # 'cuda' or 'cpu'\n",
        "\n",
        "LR = 10e-3\n",
        "MOMENTUM = 0.9\n",
        "STEP_SIZE = 10\n",
        "GAMMA = 0.1\n",
        "# TODO see if batch size should be different for main and pretext\n",
        "BATCH_SIZE = 100\n",
        "\n",
        "LAMBDA = 0.1 # weights contribution of the pretext loss to the total objective\n",
        "\n",
        "imgnet_mean, imgnet_std = (0.485, 0.456, 0.406), (0.229, 0.224, 0.225)"
      ],
      "execution_count": 0,
      "outputs": []
    },
    {
      "cell_type": "markdown",
      "metadata": {
        "id": "3BeFDUKaDXk6",
        "colab_type": "text"
      },
      "source": [
        "**Define Data Processing**"
      ]
    },
    {
      "cell_type": "code",
      "metadata": {
        "id": "zLgql-aVDXRA",
        "colab_type": "code",
        "colab": {}
      },
      "source": [
        "train_transform = transforms.Compose([ transforms.Resize(256),\n",
        "                                      transforms.CenterCrop(224),\n",
        "                                      transforms.ToTensor(),                                     \n",
        "                                      transforms.Normalize( mean=imgnet_mean, # ImageNet mean and std\n",
        "                                                            std=imgnet_std)]\n",
        ")\n",
        "\n",
        "val_transform = transforms.Compose([ transforms.Resize(256),\n",
        "                                    transforms.CenterCrop(224),\n",
        "                                    transforms.ToTensor(),\n",
        "                                    transforms.Normalize( mean=imgnet_mean, # ImageNet mean and std\n",
        "                                                          std=imgnet_std)]\n",
        ")"
      ],
      "execution_count": 0,
      "outputs": []
    },
    {
      "cell_type": "markdown",
      "metadata": {
        "id": "f9G31FYBDpnD",
        "colab_type": "text"
      },
      "source": [
        "**Prepare DataLoaders**"
      ]
    },
    {
      "cell_type": "code",
      "metadata": {
        "id": "HUzdv9ViDp7q",
        "colab_type": "code",
        "colab": {}
      },
      "source": [
        "# Data loaders for synROD (train and validation) - MAIN task\n",
        "# ASK validation needed?\n",
        "source_train_dataloader_m = DataLoader(source_train_dataset, batch_size=BATCH_SIZE, shuffle=True, num_workers=4, drop_last=True)\n",
        "source_val_dataloader_m = DataLoader(source_val_dataset, batch_size=BATCH_SIZE, shuffle=False, num_workers=4)\n",
        "\n",
        "# Data loaders for synROD (train and validation) - PRETEXT task\n",
        "source_train_dataloader_p = DataLoader(source_train_dataset, batch_size=BATCH_SIZE, shuffle=True, num_workers=4, drop_last=True)\n",
        "source_val_dataloader_p = DataLoader(source_val_dataset, batch_size=BATCH_SIZE, shuffle=False, num_workers=4)\n",
        "\n",
        "# Data loader for ROD train - PRETEXT task only\n",
        "target_train_dataloader = DataLoader(target_train_dataset, batch_size=BATCH_SIZE, shuffle=True, num_workers=4, drop_last=True)\n",
        "\n",
        "# Data loader for ROD validation - MAIN task only\n",
        "target_val_dataloader = DataLoader(target_val_dataset, batch_size=BATCH_SIZE, shuffle=False, num_workers=4)\n",
        "target_test_dataloader = DataLoader(target_test_dataset, batch_size=BATCH_SIZE, shuffle=False, num_workers=4)"
      ],
      "execution_count": 0,
      "outputs": []
    },
    {
      "cell_type": "markdown",
      "metadata": {
        "id": "9ai6alsD7xEY",
        "colab_type": "text"
      },
      "source": [
        "**Prepare Network**\n",
        "\n"
      ]
    },
    {
      "cell_type": "code",
      "metadata": {
        "id": "qksE6YW67wjd",
        "colab_type": "code",
        "colab": {}
      },
      "source": [
        "net = Net()"
      ],
      "execution_count": 0,
      "outputs": []
    },
    {
      "cell_type": "markdown",
      "metadata": {
        "id": "16F_47pgAL5D",
        "colab_type": "text"
      },
      "source": [
        "**Prepare Training**"
      ]
    },
    {
      "cell_type": "code",
      "metadata": {
        "id": "ZCC70aLyUl7I",
        "colab_type": "code",
        "colab": {}
      },
      "source": [
        "class MultipleOptimizer(object):\n",
        "    def __init__(*op):\n",
        "        self.optimizers = op\n",
        "\n",
        "    def zero_grad(self):\n",
        "        for op in self.optimizers:\n",
        "            op.zero_grad()\n",
        "\n",
        "    def step(self):\n",
        "        for op in self.optimizers:\n",
        "            op.step()"
      ],
      "execution_count": 0,
      "outputs": []
    },
    {
      "cell_type": "code",
      "metadata": {
        "id": "zg31W3wyALZD",
        "colab_type": "code",
        "colab": {}
      },
      "source": [
        "# Define loss\n",
        "# Both main and pretext losses are computed with the cross entropy function\n",
        "criterion = nn.CrossEntropyLoss()\n",
        "\n",
        "# Define optimizer\n",
        "# TODO try with different optimizers for the three components of the network\n",
        "optimizer = optim.SGD(net.parameters(), lr=LR, momentum=MOMENTUM)\n",
        "\n",
        "# Define scheduler\n",
        "scheduler = optim.lr_scheduler.StepLR(optimizer, step_size=STEP_SIZE, gamma=GAMMA)"
      ],
      "execution_count": 0,
      "outputs": []
    },
    {
      "cell_type": "code",
      "metadata": {
        "id": "hzdtn8CURNkc",
        "colab_type": "code",
        "colab": {}
      },
      "source": [
        "# Define the number of iterations\n",
        "\n",
        "NUM_ITER = min(len(source_train_dataset), len(target_train_dataset)) // BATCH_SIZE"
      ],
      "execution_count": 0,
      "outputs": []
    },
    {
      "cell_type": "markdown",
      "metadata": {
        "id": "rMpWTy3G2OD2",
        "colab_type": "text"
      },
      "source": [
        "**Training**"
      ]
    },
    {
      "cell_type": "code",
      "metadata": {
        "id": "42p5-7IN2UfG",
        "colab_type": "code",
        "colab": {}
      },
      "source": [
        "# By default, everything is loaded to cpu\n",
        "net = net.to(DEVICE) # this will bring the network to GPU if DEVICE is cuda\n",
        "\n",
        "cudnn.benchmark # Calling this optimizes runtime\n",
        "\n",
        "for epoch in range(2):  # loop over the dataset multiple times\n",
        "\n",
        "  running_loss_m = 0.0\n",
        "  running_loss_p = 0.0\n",
        "  \n",
        "  source_data_iter_m = iter(source_train_dataloader_m)\n",
        "  source_data_iter_p = iter(source_train_dataloader_p)\n",
        "  target_data_iter = iter(target_train_dataloader)\n",
        "\n",
        "  for it in range(NUM_ITER):\n",
        "\n",
        "    # set to train and zero the parameter gradients\n",
        "    net.train()\n",
        "    optimizer.zero_grad()\n",
        "\n",
        "    # ************************\n",
        "    # SOURCE MAIN FORWARD PASS\n",
        "    # ************************\n",
        "    images, labels = source_data_iter_m.next()\n",
        "\n",
        "    # Bring data over the device of choice\n",
        "    images = images.to(DEVICE)\n",
        "    labels = labels.to(DEVICE)\n",
        "\n",
        "    # forward\n",
        "    outputs = net(images, 'main')\n",
        "    # compute main loss\n",
        "    loss_m = criterion(outputs, labels)\n",
        "\n",
        "    # ***************************\n",
        "    # SOURCE PRETEXT FORWARD PASS\n",
        "    # ***************************\n",
        "    source_images, source_labels = transform_batch(source_data_iter_p.next())\n",
        "\n",
        "    # Bring data over the device of choice\n",
        "    source_images = source_images.to(DEVICE)\n",
        "    source_labels = source_labels.to(DEVICE)\n",
        "\n",
        "    # forward\n",
        "    source_outputs = net(source_images, 'pretext')\n",
        "\n",
        "    # ***************************\n",
        "    # TARGET PRETEXT FORWARD PASS\n",
        "    # ***************************\n",
        "    target_images, target_labels = transform_batch(target_data_iter.next())\n",
        "\n",
        "    # Bring data over the device of choice\n",
        "    target_images = target_images.to(DEVICE)\n",
        "    target_labels = target_labels.to(DEVICE)\n",
        "\n",
        "    # forward\n",
        "    target_outputs = net(target_images, 'pretext')\n",
        "\n",
        "    # compute pretext loss\n",
        "    # check if more efficient when backward done separately\n",
        "    # source: https://stackoverflow.com/questions/53994625/how-can-i-process-multi-loss-in-pytorch\n",
        "    loss_p = LAMBDA * (criterion(source_outputs, source_labels) + criterion(target_outputs, target_labels))\n",
        "    loss_m.backward()\n",
        "    loss_p.backward()\n",
        "\n",
        "    optimizer.step()\n",
        "\n",
        "    # print statistics\n",
        "    running_loss_m += loss_m.item()\n",
        "    running_loss_p += loss_p.item()\n",
        "    if i % 100 == 99:    # print every 100 mini-batches\n",
        "      print('[%d, %5d] loss main: %.3f' % (epoch + 1, i + 1, running_loss_m / 100, running_loss_p / (LAMBDA * 100)))\n",
        "      running_loss_m = 0.0\n",
        "      running_loss_p = 0.0\n",
        "\n",
        "  scheduler.step()\n",
        "\n",
        "print('Finished Training')"
      ],
      "execution_count": 0,
      "outputs": []
    },
    {
      "cell_type": "markdown",
      "metadata": {
        "id": "RNhEEUyzQE0f",
        "colab_type": "text"
      },
      "source": [
        "#EMANUELE"
      ]
    },
    {
      "cell_type": "code",
      "metadata": {
        "id": "mLp6eggsQFxn",
        "colab_type": "code",
        "colab": {}
      },
      "source": [
        "from torchvision import models\n",
        "import torch\n",
        "import torch.nn as nn"
      ],
      "execution_count": 0,
      "outputs": []
    },
    {
      "cell_type": "code",
      "metadata": {
        "id": "2cRVLzuKsTB3",
        "colab_type": "code",
        "colab": {}
      },
      "source": [
        "class Net(nn.Module):\n",
        "  def __init__(self):\n",
        "    super(Net, self).__init__()\n",
        "    self.resnet18 = models.resnet18(pretrained=True)\n",
        "    self.depthFeatureExtractor = nn.Sequential(*(list(self.resnet18.children())[:-2])) # Eliminate last fc and avg pool\n",
        "    self.rgbFeatureExtractor = nn.Sequential(*(list(self.resnet18.children())[:-2])) # Eliminate last fc and avg pool\n",
        "    \n",
        "    self.mainHead = nn.Sequential(\n",
        "        nn.AdaptiveAvgPool2d((1, 1)), # output has shape (batch_size, num_featues, 1, 1)\n",
        "        nn.Linear(512 , 1000),        # wants first dimension = batch_size\n",
        "                                      # In resnet18 it is 512 * block.expansion -> ???\n",
        "        nn.BatchNorm1d(num_features=1000),\n",
        "        nn.Relu(),\n",
        "        nn.Linear(1000, NUM_CLASSES),\n",
        "        nn.Softmax()\n",
        "    )\n",
        "\n",
        "    self.pretextHead = nn.Sequential(\n",
        "        nn.Conv2d(in_channels=512, out_channels=100, kernel_size=(1,1), bias=True), # output img = 100 channels of 7x7\n",
        "        nn.BatchNorm2d(num_features=100),\n",
        "        nn.Relu(),\n",
        "        nn.Conv2d(in_channels=100, out_channels=100, kernel_size=(3,3), bias=True), # output img = 100 channels of 98x98\n",
        "        nn.BatchNorm2d(num_features=100),\n",
        "        nn.Relu(),\n",
        "        nn.Linear(100*98*98, 100),\n",
        "        nn.BatchNorm1d(num_features=100),\n",
        "        nn.Relu(),\n",
        "        nn.Linear(100, 4),\n",
        "        nn.Softmax()\n",
        "    )\n",
        "\n",
        "\n",
        "  def forward(self, x, task): # x is the batch\n",
        "    self.rgbFeatures = self.rgbFeatureExtractor(x) # list of rgb filters of the batch (list_size = batch_size)\n",
        "    self.depthFeatures = self.depthFeatureExtractor(x) \n",
        "    self.allFeatures = torch.cat((self.depthFeatures, self.rgbFeatures),1) # To check: concatenate along right direction? \n",
        "                                                          # size_allFeatures = (batch_size, number_filters, height, width)\n",
        "                                                          # number_filters = 512\n",
        "                                                          # height = width = 7 if input of network is 224x224\n",
        "    if (task == 'main'): # S in the paper\n",
        "      out1 = self.mainHead[0](allFeatures)\n",
        "      out1 = torch.flatten(out1, 1)  # size = batch_size, num_features*h*w \n",
        "      out1 = self.mainHead[1](out1)\n",
        "      out1 = self.mainHead[2](out1)\n",
        "      out1 = self.mainHead[3](out1)\n",
        "      out1 = self.mainHead[4](out1)\n",
        "      class_scores = self.mainHead[5](out1) # class scores of the batch\n",
        "      return class_scores\n",
        "\n",
        "    else: # Stilda, Tdilda, T in the paper\n",
        "      out2 = self.pretextHead[0](allFeatures)\n",
        "      out2 = self.pretextHead[1](out2)\n",
        "      out2 = self.pretextHead[2](out2)\n",
        "      out2 = self.pretextHead[3](out2)\n",
        "      out2 = self.pretextHead[4](out2)\n",
        "      out2 = self.pretextHead[5](out2)\n",
        "      out2 = torch.flatten(out2, 1)\n",
        "      out2 = self.pretextHead[6](out2)\n",
        "      out2 = self.pretextHead[7](out2)\n",
        "      out2 = self.pretextHead[8](out2)\n",
        "      out2 = self.pretextHead[9](out2)\n",
        "      rotation_scores = self.pretextHead[10](out2)\n",
        "      return rotation_scores"
      ],
      "execution_count": 0,
      "outputs": []
    }
  ]
}