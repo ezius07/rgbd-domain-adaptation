{
  "nbformat": 4,
  "nbformat_minor": 0,
  "metadata": {
    "colab": {
      "name": "RGB Project.ipynb",
      "provenance": [],
      "collapsed_sections": [],
      "toc_visible": true,
      "include_colab_link": true
    },
    "kernelspec": {
      "name": "python3",
      "display_name": "Python 3"
    }
  },
  "cells": [
    {
      "cell_type": "markdown",
      "metadata": {
        "id": "view-in-github",
        "colab_type": "text"
      },
      "source": [
        "<a href=\"https://colab.research.google.com/github/toyo97/rgbd-domain-adaptation/blob/master/RGB_Project.ipynb\" target=\"_parent\"><img src=\"https://colab.research.google.com/assets/colab-badge.svg\" alt=\"Open In Colab\"/></a>"
      ]
    },
    {
      "cell_type": "markdown",
      "metadata": {
        "id": "FGmTIKwsQEnA",
        "colab_type": "text"
      },
      "source": [
        "# GABRIELE"
      ]
    },
    {
      "cell_type": "markdown",
      "metadata": {
        "id": "s_ErvW7FxArb",
        "colab_type": "text"
      },
      "source": [
        "**Setup**"
      ]
    },
    {
      "cell_type": "code",
      "metadata": {
        "id": "5amxwn1SQAdw",
        "colab_type": "code",
        "outputId": "aa41c38f-c5f5-47b3-d500-fef4430eb0ce",
        "colab": {
          "base_uri": "https://localhost:8080/",
          "height": 122
        }
      },
      "source": [
        "from google.colab import drive\n",
        "drive.mount(\"/content/drive/\", force_remount=True)"
      ],
      "execution_count": 1,
      "outputs": [
        {
          "output_type": "stream",
          "text": [
            "Go to this URL in a browser: https://accounts.google.com/o/oauth2/auth?client_id=947318989803-6bn6qk8qdgf4n4g3pfee6491hc0brc4i.apps.googleusercontent.com&redirect_uri=urn%3aietf%3awg%3aoauth%3a2.0%3aoob&response_type=code&scope=email%20https%3a%2f%2fwww.googleapis.com%2fauth%2fdocs.test%20https%3a%2f%2fwww.googleapis.com%2fauth%2fdrive%20https%3a%2f%2fwww.googleapis.com%2fauth%2fdrive.photos.readonly%20https%3a%2f%2fwww.googleapis.com%2fauth%2fpeopleapi.readonly\n",
            "\n",
            "Enter your authorization code:\n",
            "··········\n",
            "Mounted at /content/drive/\n"
          ],
          "name": "stdout"
        }
      ]
    },
    {
      "cell_type": "code",
      "metadata": {
        "id": "OLHYhHl3uLEw",
        "colab_type": "code",
        "colab": {}
      },
      "source": [
        "root=\"RGB Project\""
      ],
      "execution_count": 0,
      "outputs": []
    },
    {
      "cell_type": "code",
      "metadata": {
        "id": "dZVaM05Nt3tQ",
        "colab_type": "code",
        "outputId": "3ccfac6c-deaf-4376-d243-49502be0249c",
        "colab": {
          "base_uri": "https://localhost:8080/",
          "height": 51
        }
      },
      "source": [
        "!unzip -n -q \"drive/My Drive/MLDL2020/ROD.zip\" -d \"RGB Project\"\n",
        "!unzip -n -q \"drive/My Drive/MLDL2020/synROD.zip\" -d \"RGB Project\"\n",
        "!cp \"drive/My Drive/RGB Project/ROD/all_dataset.txt\" \"RGB Project/ROD\"\n",
        "!cp \"drive/My Drive/RGB Project/synROD/all_dataset.txt\" \"RGB Project/synROD\""
      ],
      "execution_count": 0,
      "outputs": [
        {
          "output_type": "stream",
          "text": [
            "cp: cannot stat 'drive/My Drive/RGB Project/ROD/reading.txt': No such file or directory\n",
            "cp: cannot stat 'drive/My Drive/RGB Project/synROD/reading.txt': No such file or directory\n"
          ],
          "name": "stdout"
        }
      ]
    },
    {
      "cell_type": "code",
      "metadata": {
        "id": "p05Z8SsUTDpG",
        "colab_type": "code",
        "colab": {}
      },
      "source": [
        "from torchvision.datasets import VisionDataset\n",
        "import glob\n",
        "\n",
        "from PIL import Image\n",
        "\n",
        "import os\n",
        "import os.path\n",
        "import sys\n",
        "\n",
        "\n",
        "def create_txt_dataset(root, ROD=True):\n",
        "\n",
        "  numCat = -1\n",
        "  if ROD:\n",
        "    filename = os.path.join(root,\"ROD\",\"all_dataset.txt\")\n",
        "    if os.path.isfile(filename):\n",
        "      raise FileExistsError\n",
        "    with open(filename, 'w') as outfile:\n",
        "\n",
        "      RGB_folder = os.path.join(root,\"ROD\",\"ROD_rgb\")\n",
        "      depth_folder = os.path.join(root,\"ROD\",\"ROD_surfnorm\")\n",
        "      for class_object in sorted(os.listdir(RGB_folder)):\n",
        "        path = os.path.join(RGB_folder, class_object)\n",
        "        if os.path.isdir(path):\n",
        "          numCat+=1\n",
        "          for subfolder in os.listdir(path):\n",
        "            subpath = os.path.join(path, subfolder)\n",
        "            if os.path.isdir(subpath):\n",
        "              rgb_path = os.path.join(subpath, \"*.png\")\n",
        "              root_depth_path = os.path.join(depth_folder, class_object, subfolder)\n",
        "              for image_rgb in glob.glob(rgb_path):\n",
        "                image_name = \"_\".join(image_rgb.split(\"/\")[-1].split(\"_\")[:-1]) + \"_depthcrop.png\"\n",
        "                image_depth = os.path.join(root_depth_path, image_name)\n",
        "                if os.path.isfile(image_depth):\n",
        "                  outfile.write(image_rgb+\",\"+image_depth+\",\"+str(numCat)+\"\\n\")\n",
        "\n",
        "  else:\n",
        "      filename = os.path.join(root,\"synROD\",\"all_dataset.txt\")\n",
        "      if os.path.isfile(filename):\n",
        "        raise FileExistsError\n",
        "      with open(filename, 'w') as outfile:\n",
        "        for class_object in sorted(os.listdir(os.path.join(root,\"synROD\"))):\n",
        "            path = os.path.join(root,\"synROD\", class_object)\n",
        "            if os.path.isdir(path):\n",
        "              numCat+=1\n",
        "              rgb_path = os.path.join(path, \"rgb\", \"*.png\")\n",
        "              root_depth_path = os.path.join(path, \"depth\")\n",
        "              for image_rgb in glob.glob(rgb_path):\n",
        "                image_depth = os.path.join(root_depth_path, image_rgb.split(\"/\")[-1])\n",
        "                if os.path.isfile(image_depth):\n",
        "                  outfile.write(image_rgb+\",\"+image_depth+\",\"+str(numCat)+\"\\n\")\n",
        "  outfile.close()"
      ],
      "execution_count": 0,
      "outputs": []
    },
    {
      "cell_type": "code",
      "metadata": {
        "id": "9N8CVWLaXMRD",
        "colab_type": "code",
        "outputId": "ef4b5594-defc-44ec-9ac6-dc224712a3d3",
        "colab": {
          "base_uri": "https://localhost:8080/",
          "height": 51
        }
      },
      "source": [
        "try:\n",
        "  create_txt_dataset(root,True)\n",
        "except FileExistsError:\n",
        "  print(\"File already created and copied from Drive\")\n",
        "try:\n",
        "  create_txt_dataset(root,False)\n",
        "except FileExistsError:\n",
        "  print(\"File already created and copied from Drive\")"
      ],
      "execution_count": 0,
      "outputs": [
        {
          "output_type": "stream",
          "text": [
            "File already created and copied from Drive\n",
            "File already created and copied from Drive\n"
          ],
          "name": "stdout"
        }
      ]
    },
    {
      "cell_type": "code",
      "metadata": {
        "id": "DS0OfkPoQjY8",
        "colab_type": "code",
        "colab": {}
      },
      "source": [
        "imgnet_mean, imgnet_std = (0.485, 0.456, 0.406), (0.229, 0.224, 0.225)"
      ],
      "execution_count": 0,
      "outputs": []
    },
    {
      "cell_type": "markdown",
      "metadata": {
        "id": "3BeFDUKaDXk6",
        "colab_type": "text"
      },
      "source": [
        "**Define Data Processing**"
      ]
    },
    {
      "cell_type": "code",
      "metadata": {
        "id": "zLgql-aVDXRA",
        "colab_type": "code",
        "colab": {}
      },
      "source": [
        "from torchvision import transforms\n",
        "\n",
        "train_transform = transforms.Compose([ transforms.Resize((256,256)),\n",
        "                                      transforms.RandomCrop(224), # random crop for training\n",
        "                                      transforms.ToTensor(),                                     \n",
        "                                      transforms.Normalize( mean=imgnet_mean, # ImageNet mean and std\n",
        "                                                            std=imgnet_std)]\n",
        ")\n",
        "\n",
        "val_transform = transforms.Compose([ transforms.Resize((256,256)),\n",
        "                                    transforms.CenterCrop(224),\n",
        "                                    transforms.ToTensor(),\n",
        "                                    transforms.Normalize( mean=imgnet_mean,\n",
        "                                                          std=imgnet_std)]\n",
        ")"
      ],
      "execution_count": 0,
      "outputs": []
    },
    {
      "cell_type": "code",
      "metadata": {
        "id": "axnIi5a6Qhwy",
        "colab_type": "code",
        "colab": {}
      },
      "source": [
        "import tqdm\n",
        "def pil_loader(path):\n",
        "\n",
        "    with open(path, 'rb') as f:\n",
        "\n",
        "        img = Image.open(f)\n",
        "        return img.convert('RGB')\n",
        "\n",
        "\n",
        "class syn_ROD(VisionDataset):\n",
        "  \n",
        "    def __init__(self, root, dataset, RAM, TrainTestFile=False, split=None, transform=None, target_transform=None):\n",
        "        super(syn_ROD, self).__init__(root, transform=transform, target_transform=target_transform)\n",
        "\n",
        "        self.images=[]\n",
        "        self.categories={}\n",
        "        self.RAM=RAM\n",
        "        \n",
        "        if TrainTestFile and dataset!=\"synROD\":\n",
        "          raise ValueError(\"Only synROD has a Train/Test split on file\")\n",
        "\n",
        "        if TrainTestFile:\n",
        "          if split not in [\"train\", \"test\"]:\n",
        "            raise ValueError(\"Split not acceptable!\")\n",
        "\n",
        "          basename = os.path.join(root,dataset,\"synARID_50k-split_\")\n",
        "          path1 = basename + \"depth_\" + split + \"1.txt\"\n",
        "          path2 = basename + \"rgb\" + split + \"1.txt\"\n",
        "          with open(path1) as f1, open(path2) as f2:\n",
        "            for line1, line2 in zip(f1,f2):\n",
        "              fields1 = line1.split(\" \")\n",
        "              fields2 = line2.split(\" \")\n",
        "              imagedepth = os.path.join(root,dataset,fields1[0])\n",
        "              imageRGB = os.path.join(root,dataset,fields2[0])\n",
        "              self.categories[fields1[0].split(\"/\")[0]]=int(fields1[1])\n",
        "              # in categories memorizzo nuova conversione label-numero ma come la uso su ROD? \n",
        "              # Scarto tutte le categorie che non sono al suo interno?\n",
        "              if RAM:\n",
        "                self.images.append(((pil_loader(imageRGB), pil_loader(imagedepth)), int(fields1[1])))\n",
        "              else:\n",
        "                self.images.append(((imageRGB,imagedepth),int(fields1[1])))\n",
        "          with open()\n",
        "\n",
        "\n",
        "        else:\n",
        "          if dataset not in [\"ROD\", \"synROD\"]:\n",
        "            raise ValueError(\"Dataset not acceptable\")\n",
        "\n",
        "          filename = os.path.join(root,dataset,\"reading.txt\")\n",
        "\n",
        "          num_lines = sum(1 for line in open(filename))\n",
        "          pbar = tqdm.tqdm(total=num_lines,position=0, leave=True)\n",
        "          for line in open(filename,\"r\").read().splitlines():\n",
        "            pbar.update(1)\n",
        "            field = line.split(\",\")\n",
        "            if RAM:\n",
        "              self.images.append(((pil_loader(field[0]), pil_loader(field[1])), int(field[2])))\n",
        "            else:\n",
        "              self.images.append(((field[0],field[1]),int(field[2])))\n",
        "\n",
        "          \n",
        "\n",
        "    def __getitem__(self, index):\n",
        "\n",
        "        images, label = self.images[index] \n",
        "\n",
        "        if self.transform is not None:\n",
        "\n",
        "            if self.RAM:\n",
        "              image1 = self.transform(images[0])\n",
        "              image2 = self.transform(images[1])\n",
        "            else:\n",
        "              image1 = self.transform(pil_loader(images[0]))\n",
        "              image2 = self.transform(pil_loader(images[1]))\n",
        "\n",
        "        return image1,image2, label\n",
        "\n",
        "    def __len__(self):\n",
        "\n",
        "        length = len(self.images) \n",
        "\n",
        "        return length"
      ],
      "execution_count": 0,
      "outputs": []
    },
    {
      "cell_type": "code",
      "metadata": {
        "id": "3y-GYnnv2bH0",
        "colab_type": "code",
        "outputId": "443b2215-ea64-4bcf-e721-8f91f3f64842",
        "colab": {
          "base_uri": "https://localhost:8080/",
          "height": 51
        }
      },
      "source": [
        "source_dataset = syn_ROD(root,\"synROD\",RAM = False, transform=train_transform)\n",
        "target_dataset = syn_ROD(root, \"ROD\", RAM = False, transform=val_transform)"
      ],
      "execution_count": 0,
      "outputs": [
        {
          "output_type": "stream",
          "text": [
            "100%|██████████| 48742/48742 [00:00<00:00, 278317.24it/s]\n",
            "100%|██████████| 41877/41877 [00:00<00:00, 404325.99it/s]\n"
          ],
          "name": "stderr"
        }
      ]
    },
    {
      "cell_type": "code",
      "metadata": {
        "id": "b6e6pSni19oF",
        "colab_type": "code",
        "outputId": "e8ef337c-e539-4c25-c58e-e418cb0cf749",
        "colab": {
          "base_uri": "https://localhost:8080/",
          "height": 499
        }
      },
      "source": [
        "foto = 32000\n",
        "display(transforms.ToPILImage()(target_dataset[foto][0][0]))\n",
        "display(transforms.ToPILImage()(target_dataset[foto][0][1]))\n",
        "print(target_dataset.images[4][0][0])\n",
        "print(target_dataset.images[4][0][1])"
      ],
      "execution_count": 0,
      "outputs": [
        {
          "output_type": "display_data",
          "data": {
            "image/png": "[encoded data removed]",
            "text/plain": [
              "<PIL.Image.Image image mode=L size=224x224 at 0x7F5095F65FD0>"
            ]
          },
          "metadata": {
            "tags": []
          }
        },
        {
          "output_type": "display_data",
          "data": {
            "image/png": "[encoded data removed]",
            "text/plain": [
              "<PIL.Image.Image image mode=L size=224x224 at 0x7F5093975470>"
            ]
          },
          "metadata": {
            "tags": []
          }
        },
        {
          "output_type": "stream",
          "text": [
            "RGB Project/ROD/ROD_rgb/apple/apple_3/apple_3_2_81_crop.png\n",
            "RGB Project/ROD/ROD_surfnorm/apple/apple_3/apple_3_2_81_depthcrop.png\n"
          ],
          "name": "stdout"
        }
      ]
    },
    {
      "cell_type": "markdown",
      "metadata": {
        "id": "19ncNYfRQEuY",
        "colab_type": "text"
      },
      "source": [
        "#VITTORIO"
      ]
    },
    {
      "cell_type": "code",
      "metadata": {
        "id": "D1HK8SFjY-dx",
        "colab_type": "code",
        "outputId": "41b36e4f-741c-4ee5-fb34-e0b2a949d84a",
        "colab": {
          "base_uri": "https://localhost:8080/",
          "height": 102
        }
      },
      "source": [
        "!find \"/content/drive/.shortcut-targets-by-id/16wqOZSiZTtePcpIKmKI-vbC315ABUVuk/RGB Project/ROD/ROD_rgb/\" -iname *56_crop.png | head -5"
      ],
      "execution_count": 0,
      "outputs": [
        {
          "output_type": "stream",
          "text": [
            "/content/drive/.shortcut-targets-by-id/16wqOZSiZTtePcpIKmKI-vbC315ABUVuk/RGB Project/ROD/ROD_rgb/apple/apple_1/apple_1_1_156_crop.png\n",
            "/content/drive/.shortcut-targets-by-id/16wqOZSiZTtePcpIKmKI-vbC315ABUVuk/RGB Project/ROD/ROD_rgb/apple/apple_1/apple_1_1_56_crop.png\n",
            "/content/drive/.shortcut-targets-by-id/16wqOZSiZTtePcpIKmKI-vbC315ABUVuk/RGB Project/ROD/ROD_rgb/apple/apple_1/apple_1_2_56_crop.png\n",
            "/content/drive/.shortcut-targets-by-id/16wqOZSiZTtePcpIKmKI-vbC315ABUVuk/RGB Project/ROD/ROD_rgb/apple/apple_1/apple_1_2_156_crop.png\n",
            "/content/drive/.shortcut-targets-by-id/16wqOZSiZTtePcpIKmKI-vbC315ABUVuk/RGB Project/ROD/ROD_rgb/apple/apple_1/apple_1_4_156_crop.png\n"
          ],
          "name": "stdout"
        }
      ]
    },
    {
      "cell_type": "markdown",
      "metadata": {
        "id": "WOrW18rDVSjo",
        "colab_type": "text"
      },
      "source": [
        "## Rotation transformation\n",
        "\n",
        "Source: https://pytorch.org/docs/stable/torchvision/transforms.html"
      ]
    },
    {
      "cell_type": "code",
      "metadata": {
        "id": "7KpAZgABbhFT",
        "colab_type": "code",
        "colab": {}
      },
      "source": [
        "import torch\n",
        "import torchvision.transforms.functional as TF\n",
        "from torchvision import transforms\n",
        "import random\n",
        "import numpy as np\n",
        "\n",
        "class UnNormalize(object):\n",
        "    def __init__(self, mean, std):\n",
        "        self.mean = mean\n",
        "        self.std = std\n",
        "\n",
        "    def __call__(self, tensor):\n",
        "        \"\"\"\n",
        "        Args:\n",
        "            tensor (Tensor): Tensor image of size (C, H, W) to be normalized.\n",
        "        Returns:\n",
        "            Tensor: Normalized image.\n",
        "        \"\"\"\n",
        "        new_tensor = torch.empty(tensor.size())\n",
        "        for i, t, m, s in zip(range(3), tensor, self.mean, self.std):\n",
        "            new_tensor[i,:,:] = t.mul(s).add(m)\n",
        "\n",
        "        return new_tensor"
      ],
      "execution_count": 0,
      "outputs": []
    },
    {
      "cell_type": "code",
      "metadata": {
        "id": "mHvpKAo89ci5",
        "colab_type": "code",
        "outputId": "65bd4248-2f65-466d-c007-cdf119e1d724",
        "colab": {
          "base_uri": "https://localhost:8080/",
          "height": 325
        }
      },
      "source": [
        "# Usage of UnNormalize\n",
        "prova=source_dataset.__getitem__(4)[0]\n",
        "display(transforms.ToPILImage()(UnNormalize(imgnet_mean, imgnet_std)(prova)))\n",
        "display((pil_loader(source_dataset.images[4][0][0])))"
      ],
      "execution_count": 0,
      "outputs": [
        {
          "output_type": "display_data",
          "data": {
            "image/png": "[encoded data removed]",
            "text/plain": [
              "<PIL.Image.Image image mode=RGB size=224x224 at 0x7F2B10BEEFD0>"
            ]
          },
          "metadata": {
            "tags": []
          }
        },
        {
          "output_type": "display_data",
          "data": {
            "image/png": "[encoded data removed]",
            "text/plain": [
              "<PIL.Image.Image image mode=RGB size=84x84 at 0x7F2B1117B048>"
            ]
          },
          "metadata": {
            "tags": []
          }
        }
      ]
    },
    {
      "cell_type": "code",
      "metadata": {
        "id": "xoR2m0QG7XAq",
        "colab_type": "code",
        "colab": {}
      },
      "source": [
        "def coupled_rotation(image_tuple): # first img in tuple is RGB\n",
        "\n",
        "  j = random.randint(0,3)\n",
        "  k = random.randint(0,3)\n",
        "\n",
        "  z = (k-j) % 4\n",
        "\n",
        "  # Note: TF.rotate is counter-clockwise\n",
        "  rotated_image_tuple = TF.rotate(image_tuple[0], 270*j), TF.rotate(image_tuple[1], 270*k)\n",
        "\n",
        "  return rotated_image_tuple, z\n",
        "\n",
        "\n",
        "def transform_batch(rgb_batch, depth_batch):\n",
        "  \"\"\"\n",
        "  params: both rgb_batch and depth_batch are tensors of shape (BATCH_SIZE, 3, 224, 224)\n",
        "  \"\"\"\n",
        "\n",
        "    # F: from normalized tensor, to unnormalized PIL image\n",
        "  F = transforms.Compose([\n",
        "                            UnNormalize(imgnet_mean, imgnet_std),\n",
        "                            transforms.ToPILImage()\n",
        "  ])\n",
        "    # G: inverseF\n",
        "  G = transforms.Compose([\n",
        "                          transforms.ToTensor(),\n",
        "                          transforms.Normalize(imgnet_mean, imgnet_std)\n",
        "  ])\n",
        "\n",
        "  # New batches with rotation labels\n",
        "  new_rgb_batch = torch.empty(rgb_batch.size())\n",
        "  new_depth_batch = torch.empty(depth_batch.size())\n",
        "  labels = torch.empty(rgb_batch.size()[0], dtype=torch.long)\n",
        "\n",
        "  for i in range(rgb_batch.size()[0]):\n",
        "    # denormalize and back to PIL image\n",
        "    rotated_images, labels[i] = coupled_rotation((F(rgb_batch[i,:,:,:]), F(depth_batch[i,:,:,:])))\n",
        "    new_rgb_batch[i,:,:,:], new_depth_batch[i,:,:,:] = G(rotated_images[0]), G(rotated_images[1])\n",
        "\n",
        "  return new_rgb_batch, new_depth_batch, labels"
      ],
      "execution_count": 0,
      "outputs": []
    },
    {
      "cell_type": "markdown",
      "metadata": {
        "id": "StUAZqQCX2gm",
        "colab_type": "text"
      },
      "source": [
        "CHECK NORMALIZE - ROTATION"
      ]
    },
    {
      "cell_type": "code",
      "metadata": {
        "id": "UYQxu__4V5Gl",
        "colab_type": "code",
        "outputId": "977da5e8-59d0-441c-fe52-3cb058a76a3b",
        "colab": {
          "base_uri": "https://localhost:8080/",
          "height": 579
        }
      },
      "source": [
        "img_path_a = '/content/drive/.shortcut-targets-by-id/16wqOZSiZTtePcpIKmKI-vbC315ABUVuk/RGB Project/ROD/ROD_rgb/rubber_eraser/rubber_eraser_3/rubber_eraser_3_4_56_crop.png'\n",
        "a = Image.open(img_path_a).convert('RGB')\n",
        "m=transforms.Normalize( mean=imgnet_mean, std=imgnet_std)(transforms.ToTensor()(TF.rotate(a,90)))\n",
        "n=transforms.ToTensor()(TF.rotate(transforms.ToPILImage()(transforms.Normalize( mean=imgnet_mean, std=imgnet_std)(transforms.ToTensor()(a))),90))\n",
        "display(a)\n",
        "display(transforms.ToPILImage()(n))\n",
        "display(transforms.ToPILImage()(m))\n",
        "print(torch.eq(n,m))"
      ],
      "execution_count": 0,
      "outputs": [
        {
          "output_type": "display_data",
          "data": {
            "image/png": "[encoded data removed]",
            "text/plain": [
              "<PIL.Image.Image image mode=RGB size=57x57 at 0x7F2B10BFFF60>"
            ]
          },
          "metadata": {
            "tags": []
          }
        },
        {
          "output_type": "display_data",
          "data": {
            "image/png": "[encoded data removed]",
            "text/plain": [
              "<PIL.Image.Image image mode=RGB size=57x57 at 0x7F2B10BFFD30>"
            ]
          },
          "metadata": {
            "tags": []
          }
        },
        {
          "output_type": "display_data",
          "data": {
            "image/png": "[encoded data removed]",
            "text/plain": [
              "<PIL.Image.Image image mode=RGB size=57x57 at 0x7F2B10BFF550>"
            ]
          },
          "metadata": {
            "tags": []
          }
        },
        {
          "output_type": "stream",
          "text": [
            "tensor([[[False, False, False,  ..., False, False, False],\n",
            "         [False, False, False,  ..., False, False, False],\n",
            "         [False, False, False,  ..., False, False, False],\n",
            "         ...,\n",
            "         [False, False, False,  ..., False, False, False],\n",
            "         [False, False, False,  ..., False, False, False],\n",
            "         [False, False, False,  ..., False, False, False]],\n",
            "\n",
            "        [[False, False, False,  ..., False, False, False],\n",
            "         [False, False, False,  ..., False, False, False],\n",
            "         [False, False, False,  ..., False, False, False],\n",
            "         ...,\n",
            "         [False, False, False,  ..., False, False, False],\n",
            "         [False, False, False,  ..., False, False, False],\n",
            "         [False, False, False,  ..., False, False, False]],\n",
            "\n",
            "        [[False, False, False,  ..., False, False, False],\n",
            "         [False, False, False,  ..., False, False, False],\n",
            "         [False, False, False,  ..., False, False, False],\n",
            "         ...,\n",
            "         [False, False, False,  ..., False, False, False],\n",
            "         [False, False, False,  ..., False, False, False],\n",
            "         [False, False, False,  ..., False, False, False]]])\n"
          ],
          "name": "stdout"
        }
      ]
    },
    {
      "cell_type": "markdown",
      "metadata": {
        "id": "3pTkgSdOltHo",
        "colab_type": "text"
      },
      "source": [
        "**TEST**"
      ]
    },
    {
      "cell_type": "code",
      "metadata": {
        "id": "ydf5MOy-d0em",
        "colab_type": "code",
        "outputId": "66c3b9d4-0434-4d2a-9c58-ecf83f0729ac",
        "colab": {
          "base_uri": "https://localhost:8080/",
          "height": 74
        }
      },
      "source": [
        "img_path_a = '/content/drive/.shortcut-targets-by-id/16wqOZSiZTtePcpIKmKI-vbC315ABUVuk/RGB Project/ROD/ROD_rgb/rubber_eraser/rubber_eraser_3/rubber_eraser_3_4_56_crop.png'\n",
        "a = Image.open(img_path_a).convert('RGB')\n",
        "\n",
        "display(a)"
      ],
      "execution_count": 0,
      "outputs": [
        {
          "output_type": "display_data",
          "data": {
            "image/png": "[encoded data removed]",
            "text/plain": [
              "<PIL.Image.Image image mode=RGB size=57x57 at 0x7FD6083FB710>"
            ]
          },
          "metadata": {
            "tags": []
          }
        }
      ]
    },
    {
      "cell_type": "code",
      "metadata": {
        "id": "26HzkiG0iVb6",
        "colab_type": "code",
        "outputId": "6d444ca9-e0da-4964-f6e1-0f719cabcfec",
        "colab": {
          "base_uri": "https://localhost:8080/",
          "height": 34
        }
      },
      "source": [
        "img_tensor = train_transform(a)\n",
        "img_batch = img_tensor.unsqueeze(0)\n",
        "img_batch.size()"
      ],
      "execution_count": 0,
      "outputs": [
        {
          "output_type": "execute_result",
          "data": {
            "text/plain": [
              "torch.Size([1, 3, 224, 224])"
            ]
          },
          "metadata": {
            "tags": []
          },
          "execution_count": 22
        }
      ]
    },
    {
      "cell_type": "code",
      "metadata": {
        "id": "T-m0SJqwiW6-",
        "colab_type": "code",
        "colab": {}
      },
      "source": [
        "rgb_batch, depth_batch, labels = transform_batch(img_batch, img_batch)"
      ],
      "execution_count": 0,
      "outputs": []
    },
    {
      "cell_type": "code",
      "metadata": {
        "id": "9uvKLg8PgraY",
        "colab_type": "code",
        "outputId": "e84f4947-dbe3-4585-ccfa-e9fa7c2d5bec",
        "colab": {
          "base_uri": "https://localhost:8080/",
          "height": 499
        }
      },
      "source": [
        "F = transforms.Compose([\n",
        "                            UnNormalize(imgnet_mean, imgnet_std),\n",
        "                            transforms.ToPILImage()\n",
        "  ])\n",
        "\n",
        "display(F(rgb_batch.squeeze()))\n",
        "display(F(depth_batch.squeeze()))\n",
        "z = labels[0]\n",
        "print('\"How many times should the first image be rotated by 90 degrees clockwise to align with the second?\"')\n",
        "print(f'{z} time(s), i.e. relative rotation of {z * 90} degrees')"
      ],
      "execution_count": 0,
      "outputs": [
        {
          "output_type": "display_data",
          "data": {
            "image/png": "[encoded data removed]",
            "text/plain": [
              "<PIL.Image.Image image mode=RGB size=224x224 at 0x7FD605FF1438>"
            ]
          },
          "metadata": {
            "tags": []
          }
        },
        {
          "output_type": "display_data",
          "data": {
            "image/png": "[encoded data removed]",
            "text/plain": [
              "<PIL.Image.Image image mode=RGB size=224x224 at 0x7FD605FF1400>"
            ]
          },
          "metadata": {
            "tags": []
          }
        },
        {
          "output_type": "stream",
          "text": [
            "\"How many times should the first image be rotated by 90 degrees clockwise to align with the second?\"\n",
            "1 time(s), i.e. relative rotation of 90 degrees\n"
          ],
          "name": "stdout"
        }
      ]
    },
    {
      "cell_type": "markdown",
      "metadata": {
        "id": "Ec2ug0JPCGyD",
        "colab_type": "text"
      },
      "source": [
        "**Imports**"
      ]
    },
    {
      "cell_type": "code",
      "metadata": {
        "id": "pRnMdjsICGQB",
        "colab_type": "code",
        "colab": {}
      },
      "source": [
        "import torch\n",
        "import torchvision\n",
        "from torchvision import transforms\n",
        "import torch.optim as optim\n",
        "import torch.nn as nn\n",
        "from torch.utils.data import Subset, DataLoader\n",
        "from torch.utils.data.dataset import random_split\n",
        "from torch.backends import cudnn"
      ],
      "execution_count": 0,
      "outputs": []
    },
    {
      "cell_type": "markdown",
      "metadata": {
        "id": "Yoxrk68AATTE",
        "colab_type": "text"
      },
      "source": [
        "**Hyperparameters**"
      ]
    },
    {
      "cell_type": "code",
      "metadata": {
        "id": "4EzWNsETASIN",
        "colab_type": "code",
        "colab": {}
      },
      "source": [
        "DEVICE = 'cuda'      # 'cuda' or 'cpu'\n",
        "\n",
        "LR = 10e-3\n",
        "MOMENTUM = 0.9\n",
        "STEP_SIZE = 10\n",
        "GAMMA = 0.1\n",
        "# TODO see if batch size should be different for main and pretext\n",
        "BATCH_SIZE = 100\n",
        "\n",
        "LAMBDA = 0.1 # weights contribution of the pretext loss to the total objective"
      ],
      "execution_count": 0,
      "outputs": []
    },
    {
      "cell_type": "markdown",
      "metadata": {
        "id": "f9G31FYBDpnD",
        "colab_type": "text"
      },
      "source": [
        "**Prepare DataLoaders**"
      ]
    },
    {
      "cell_type": "code",
      "metadata": {
        "id": "HUzdv9ViDp7q",
        "colab_type": "code",
        "colab": {}
      },
      "source": [
        "# Data loaders for synROD - MAIN/PRETEXT task only at training\n",
        "source_dataloader = DataLoader(source_dataset, batch_size=BATCH_SIZE, shuffle=True, num_workers=4, drop_last=True)\n",
        "\n",
        "# Data loader for ROD train and test - PRETEXT at train, MAIN at test (check validity of drop last when testing)\n",
        "target_dataloader = DataLoader(target_dataset, batch_size=BATCH_SIZE, shuffle=True, num_workers=4, drop_last=True)"
      ],
      "execution_count": 0,
      "outputs": []
    },
    {
      "cell_type": "markdown",
      "metadata": {
        "id": "9ai6alsD7xEY",
        "colab_type": "text"
      },
      "source": [
        "**Prepare Network**\n",
        "\n"
      ]
    },
    {
      "cell_type": "code",
      "metadata": {
        "id": "qksE6YW67wjd",
        "colab_type": "code",
        "colab": {}
      },
      "source": [
        "net = Net()"
      ],
      "execution_count": 0,
      "outputs": []
    },
    {
      "cell_type": "markdown",
      "metadata": {
        "id": "16F_47pgAL5D",
        "colab_type": "text"
      },
      "source": [
        "**Prepare Training**"
      ]
    },
    {
      "cell_type": "code",
      "metadata": {
        "id": "ZCC70aLyUl7I",
        "colab_type": "code",
        "colab": {}
      },
      "source": [
        "class MultipleOptimizer(object):\n",
        "    def __init__(self, *op):\n",
        "        self.optimizers = op\n",
        "\n",
        "    def zero_grad(self):\n",
        "        for op in self.optimizers:\n",
        "            op.zero_grad()\n",
        "# random crop for training\n",
        "    def step(self):\n",
        "        for op in self.optimizers:\n",
        "            op.step()"
      ],
      "execution_count": 0,
      "outputs": []
    },
    {
      "cell_type": "code",
      "metadata": {
        "id": "zg31W3wyALZD",
        "colab_type": "code",
        "colab": {}
      },
      "source": [
        "# Define loss\n",
        "# Both main and pretext losses are computed with the cross entropy function\n",
        "criterion = nn.CrossEntropyLoss()\n",
        "\n",
        "# Define optimizer\n",
        "# TODO try with different optimizers for the three components of the network\n",
        "optimizer = optim.SGD(net.parameters(), lr=LR, momentum=MOMENTUM)\n",
        "\n",
        "# Define scheduler\n",
        "scheduler = optim.lr_scheduler.StepLR(optimizer, step_size=STEP_SIZE, gamma=GAMMA)"
      ],
      "execution_count": 0,
      "outputs": []
    },
    {
      "cell_type": "code",
      "metadata": {
        "id": "hzdtn8CURNkc",
        "colab_type": "code",
        "colab": {}
      },
      "source": [
        "# Define the number of iterations\n",
        "# Largest dataset rules\n",
        "NUM_ITER = max(len(source_dataset), len(target_dataset)) // BATCH_SIZE"
      ],
      "execution_count": 0,
      "outputs": []
    },
    {
      "cell_type": "code",
      "metadata": {
        "id": "rFGMEeFptX3t",
        "colab_type": "code",
        "colab": {}
      },
      "source": [
        "# Allow iterating over a dataset more than once\n",
        "# to deal with different number of samples between datasets\n",
        "# during training and batch sampling\n",
        "def loopy(dl):\n",
        "  while True:\n",
        "    for x in dl: yield x"
      ],
      "execution_count": 0,
      "outputs": []
    },
    {
      "cell_type": "markdown",
      "metadata": {
        "id": "rMpWTy3G2OD2",
        "colab_type": "text"
      },
      "source": [
        "**Training**"
      ]
    },
    {
      "cell_type": "code",
      "metadata": {
        "id": "BtxtRsdLhA8d",
        "colab_type": "code",
        "outputId": "8194ec9d-d8e8-4662-b37f-738a9daf77bb",
        "colab": {
          "base_uri": "https://localhost:8080/",
          "height": 34
        }
      },
      "source": [
        "# By default, everything is loaded to cpu\n",
        "net = net.to(DEVICE) # this will bring the network to GPU if DEVICE is cuda\n",
        "\n",
        "cudnn.benchmark # Calling this optimizes runtime"
      ],
      "execution_count": 0,
      "outputs": [
        {
          "output_type": "execute_result",
          "data": {
            "text/plain": [
              "False"
            ]
          },
          "metadata": {
            "tags": []
          },
          "execution_count": 21
        }
      ]
    },
    {
      "cell_type": "code",
      "metadata": {
        "id": "42p5-7IN2UfG",
        "colab_type": "code",
        "outputId": "7ec0ae6b-51b0-48ae-e323-f13c41d22719",
        "colab": {
          "base_uri": "https://localhost:8080/",
          "height": 714
        }
      },
      "source": [
        "for epoch in range(2):  # loop over the dataset multiple times\n",
        "\n",
        "  running_loss_m = 0.0\n",
        "  running_loss_p = 0.0\n",
        "  \n",
        "  source_data_iter = loopy(source_dataloader)\n",
        "  target_data_iter = loopy(target_dataloader)\n",
        "\n",
        "  for it in range(NUM_ITER):\n",
        "\n",
        "    # set to train and zero the parameter gradients\n",
        "    net.train()\n",
        "    optimizer.zero_grad()\n",
        "\n",
        "    # ************************\n",
        "    # SOURCE MAIN FORWARD PASS\n",
        "    # ************************\n",
        "    # unpack in RGB images, depth images and labels\n",
        "    rimgs, dimgs, labels = next(source_data_iter)\n",
        "\n",
        "    # Bring data over the device of choice\n",
        "    rimgs = rimgs.to(DEVICE)\n",
        "    dimgs = dimgs.to(DEVICE)\n",
        "    labels = labels.to(DEVICE)\n",
        "\n",
        "    # forward\n",
        "    outputs = net(rimgs, dimgs)\n",
        "    # compute main loss\n",
        "    loss_m = criterion(outputs, labels)\n",
        "    loss_m.backward()\n",
        "    \n",
        "    # ***************************\n",
        "    # SOURCE PRETEXT FORWARD PASS\n",
        "    # ***************************\n",
        "    # using same batch as main forward pass\n",
        "    rimgs, dimgs, labels = transform_batch(rimgs, dimgs)\n",
        "\n",
        "    rimgs = rimgs.to(DEVICE)\n",
        "    dimgs = dimgs.to(DEVICE)\n",
        "    labels = labels.to(DEVICE)\n",
        "\n",
        "    outputs = net(rimgs, dimgs, LAMBDA)\n",
        "    loss_sp = criterion(outputs, labels)\n",
        "    loss_sp.backward()\n",
        "\n",
        "    # ***************************\n",
        "    # TARGET PRETEXT FORWARD PASS\n",
        "    # ***************************\n",
        "\n",
        "    rimgs, dimgs, _ = next(target_data_iter)\n",
        "    rimgs, dimgs, labels = transform_batch(rimgs, dimgs)\n",
        "\n",
        "    rimgs = rimgs.to(DEVICE)\n",
        "    dimgs = dimgs.to(DEVICE)\n",
        "    labels = labels.to(DEVICE)\n",
        "\n",
        "    outputs = net(rimgs, dimgs, 'pretext')\n",
        "\n",
        "    loss_tp = criterion(outputs, labels)\n",
        "    loss_tp.backward()\n",
        "\n",
        "    # update weights\n",
        "    optimizer.step()\n",
        "\n",
        "    # print statistics\n",
        "    running_loss_m += loss_m.item()\n",
        "    running_loss_p += (loss_sp+loss_tp).item()\n",
        "    if it % 100 == 99:    # print every 100 mini-batches\n",
        "      print(f'[{epoch+1}, {it+1}] Lm {running_loss_m/100}, Lp {running_loss_p/100}')\n",
        "      running_loss_m = 0.\n",
        "      running_loss_p = 0.\n",
        "\n",
        "  scheduler.step()\n",
        "\n",
        "print('Finished Training')"
      ],
      "execution_count": 0,
      "outputs": [
        {
          "output_type": "stream",
          "text": [
            "torch.Size([100, 512, 7, 7])\n",
            "torch.Size([100, 1024, 7, 7])\n",
            "torch.Size([100, 1000])\n",
            "torch.Size([100, 512, 7, 7])\n",
            "torch.Size([100, 1024, 7, 7])\n",
            "torch.Size([100, 900])\n",
            "pretext\n",
            "torch.Size([100])\n",
            "torch.Size([100, 512, 7, 7])\n",
            "torch.Size([100, 1024, 7, 7])\n",
            "torch.Size([100, 900])\n",
            "torch.Size([100, 512, 7, 7])\n",
            "torch.Size([100, 1024, 7, 7])\n",
            "torch.Size([100, 1000])\n",
            "torch.Size([100, 512, 7, 7])\n",
            "torch.Size([100, 1024, 7, 7])\n",
            "torch.Size([100, 900])\n",
            "pretext\n",
            "torch.Size([100])\n",
            "torch.Size([100, 512, 7, 7])\n",
            "torch.Size([100, 1024, 7, 7])\n",
            "torch.Size([100, 900])\n",
            "torch.Size([100, 512, 7, 7])\n",
            "torch.Size([100, 1024, 7, 7])\n",
            "torch.Size([100, 1000])\n",
            "torch.Size([100, 512, 7, 7])\n",
            "torch.Size([100, 1024, 7, 7])\n",
            "torch.Size([100, 900])\n",
            "pretext\n",
            "torch.Size([100])\n",
            "torch.Size([100, 512, 7, 7])\n",
            "torch.Size([100, 1024, 7, 7])\n",
            "torch.Size([100, 900])\n",
            "torch.Size([100, 512, 7, 7])\n",
            "torch.Size([100, 1024, 7, 7])\n",
            "torch.Size([100, 1000])\n",
            "torch.Size([100, 512, 7, 7])\n",
            "torch.Size([100, 1024, 7, 7])\n",
            "torch.Size([100, 900])\n",
            "pretext\n",
            "torch.Size([100])\n"
          ],
          "name": "stdout"
        }
      ]
    },
    {
      "cell_type": "markdown",
      "metadata": {
        "id": "RNhEEUyzQE0f",
        "colab_type": "text"
      },
      "source": [
        "#EMANUELE"
      ]
    },
    {
      "cell_type": "code",
      "metadata": {
        "id": "mLp6eggsQFxn",
        "colab_type": "code",
        "colab": {}
      },
      "source": [
        "from torchvision import models\n",
        "import torch\n",
        "import torch.nn as nn\n",
        "import numpy as np\n",
        "import copy\n",
        "from torchsummary import summary\n",
        "from torch.autograd import Function"
      ],
      "execution_count": 0,
      "outputs": []
    },
    {
      "cell_type": "code",
      "metadata": {
        "id": "6I2KSVigji1l",
        "colab_type": "code",
        "colab": {}
      },
      "source": [
        "NUM_CLASSES=51"
      ],
      "execution_count": 0,
      "outputs": []
    },
    {
      "cell_type": "code",
      "metadata": {
        "id": "Eac0Npo-zT6s",
        "colab_type": "code",
        "colab": {}
      },
      "source": [
        "class LambdaRev(Function):\n",
        "    @staticmethod\n",
        "    def forward(ctx, x, lamda):\n",
        "        return x.view_as(x)\n",
        "\n",
        "    @staticmethod\n",
        "    def backward(ctx, grad_output, lamda):\n",
        "        return grad_output.mul(lamda)"
      ],
      "execution_count": 0,
      "outputs": []
    },
    {
      "cell_type": "code",
      "metadata": {
        "id": "2cRVLzuKsTB3",
        "colab_type": "code",
        "colab": {}
      },
      "source": [
        "class Net(nn.Module):\n",
        "  def __init__(self):\n",
        "    super(Net, self).__init__()\n",
        "    self.resnet18 = models.resnet18(pretrained=True)\n",
        "    self.depthFeatureExtractor = nn.Sequential(*(list(copy.deepcopy(self.resnet18).children())[:-2])) # Eliminate last fc and avg pool\n",
        "    self.rgbFeatureExtractor = nn.Sequential(*(list(copy.deepcopy(self.resnet18).children())[:-2])) # Eliminate last fc and avg pool\n",
        "    \n",
        "    self.mainHead = nn.Sequential(\n",
        "        nn.AdaptiveAvgPool2d((1, 1)), # output has shape (batch_size, num_featues, 1, 1)\n",
        "        nn.Linear(1024 , 1000),        # wants first dimension = batch_size\n",
        "                                      # In resnet18 it is 512 * block.expansion -> ???\n",
        "        nn.BatchNorm1d(num_features=1000),\n",
        "        nn.ReLU(),\n",
        "        nn.Dropout(p=0.5),\n",
        "        nn.Linear(1000, NUM_CLASSES),\n",
        "        nn.Softmax()\n",
        "    )\n",
        "\n",
        "    nn.init.xavier_normal_(self.mainHead[1].weight, gain=1.0)\n",
        "    nn.init.xavier_normal_(self.mainHead[5].weight, gain=1.0)\n",
        "\n",
        "    self.pretextHead = nn.Sequential(\n",
        "        nn.Conv2d(in_channels=1024, out_channels=100, kernel_size=(1,1), bias=True, stride=1, padding=0), # output img = 100 channels of 7x7\n",
        "        nn.BatchNorm2d(num_features=100),\n",
        "        nn.ReLU(),\n",
        "        nn.Conv2d(in_channels=100, out_channels=100, kernel_size=(3,3), bias=True, stride=2, padding=0), # output img = 100 channels of 98x98\n",
        "        nn.BatchNorm2d(num_features=100),\n",
        "        nn.ReLU(),\n",
        "        nn.Linear(900, 100),\n",
        "        nn.BatchNorm1d(num_features=100),\n",
        "        nn.ReLU(),\n",
        "        nn.Linear(100, 4),\n",
        "        nn.Softmax()\n",
        "    )\n",
        "    \n",
        "    nn.init.xavier_normal_(self.pretextHead[0].weight, gain=1.0)\n",
        "    nn.init.xavier_normal_(self.pretextHead[3].weight, gain=1.0)\n",
        "    nn.init.xavier_normal_(self.pretextHead[6].weight, gain=1.0)\n",
        "    nn.init.xavier_normal_(self.pretextHead[9].weight, gain=1.0)\n",
        "    \n",
        "\n",
        "  def forward(self, x, y, lamda=None): # x is the rgb batch, y the depth batch\n",
        "    rgbFeatures = self.rgbFeatureExtractor(x) # list of rgb filters of the batch (list_size = batch_size)\n",
        "    depthFeatures = self.depthFeatureExtractor(y) \n",
        "    totFeatures = torch.cat((depthFeatures, rgbFeatures), 1) # To check: concatenate along right direction? \n",
        "                                                          # size_allFeatures = (batch_size, number_filters, height, width)\n",
        "                                                          # number_filters = 512\n",
        "                                                          # height = width = 7 if input of network is 224x224\n",
        "\n",
        "    if lamda is None: # S in the paper\n",
        "      out1 = self.mainHead[0](totFeatures)\n",
        "      out1 = torch.flatten(out1, 1)  # size = batch_size, num_features*h*w \n",
        "      out1 = self.mainHead[1](out1)\n",
        "      out1 = self.mainHead[2](out1)\n",
        "      out1 = self.mainHead[3](out1)\n",
        "      out1 = self.mainHead[4](out1)\n",
        "      class_scores = self.mainHead[5](out1) # class scores of the batch\n",
        "      return class_scores\n",
        "\n",
        "    else: # Stilda, Tdilda, T in the paper\n",
        "      out2 = LambdaRev.apply(totFeatures, lamda) # lambda mul in backward pass\n",
        "\n",
        "      out2 = self.pretextHead[0](totFeatures)\n",
        "      out2 = self.pretextHead[1](out2)\n",
        "      out2 = self.pretextHead[2](out2)\n",
        "      out2 = self.pretextHead[3](out2)\n",
        "      out2 = self.pretextHead[4](out2)\n",
        "      out2 = self.pretextHead[5](out2)\n",
        "      out2 = torch.flatten(out2, 1)\n",
        "      out2 = self.pretextHead[6](out2)\n",
        "      out2 = self.pretextHead[7](out2)\n",
        "      out2 = self.pretextHead[8](out2)\n",
        "      out2 = self.pretextHead[9](out2)\n",
        "      rotation_scores = self.pretextHead[10](out2)\n",
        "      return rotation_scores"
      ],
      "execution_count": 0,
      "outputs": []
    }
  ]
}