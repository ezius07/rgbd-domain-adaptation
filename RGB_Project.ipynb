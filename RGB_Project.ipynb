{
  "nbformat": 4,
  "nbformat_minor": 0,
  "metadata": {
    "colab": {
      "name": "RGB Project.ipynb",
      "provenance": [],
      "collapsed_sections": [],
      "toc_visible": true,
      "include_colab_link": true
    },
    "kernelspec": {
      "name": "python3",
      "display_name": "Python 3"
    }
  },
  "cells": [
    {
      "cell_type": "markdown",
      "metadata": {
        "id": "view-in-github",
        "colab_type": "text"
      },
      "source": [
        "<a href=\"https://colab.research.google.com/github/toyo97/rgbd-domain-adaptation/blob/master/RGB_Project.ipynb\" target=\"_parent\"><img src=\"https://colab.research.google.com/assets/colab-badge.svg\" alt=\"Open In Colab\"/></a>"
      ]
    },
    {
      "cell_type": "markdown",
      "metadata": {
        "id": "FGmTIKwsQEnA",
        "colab_type": "text"
      },
      "source": [
        "# GABRIELE"
      ]
    },
    {
      "cell_type": "markdown",
      "metadata": {
        "id": "s_ErvW7FxArb",
        "colab_type": "text"
      },
      "source": [
        "**Reading data**"
      ]
    },
    {
      "cell_type": "code",
      "metadata": {
        "id": "5amxwn1SQAdw",
        "colab_type": "code",
        "outputId": "1bc0f971-8048-41aa-c5ca-5dbac1c145d2",
        "colab": {
          "base_uri": "https://localhost:8080/",
          "height": 122
        }
      },
      "source": [
        "from google.colab import drive\n",
        "drive.mount(\"/content/drive/\")"
      ],
      "execution_count": 0,
      "outputs": [
        {
          "output_type": "stream",
          "text": [
            "Go to this URL in a browser: https://accounts.google.com/o/oauth2/auth?client_id=947318989803-6bn6qk8qdgf4n4g3pfee6491hc0brc4i.apps.googleusercontent.com&redirect_uri=urn%3aietf%3awg%3aoauth%3a2.0%3aoob&response_type=code&scope=email%20https%3a%2f%2fwww.googleapis.com%2fauth%2fdocs.test%20https%3a%2f%2fwww.googleapis.com%2fauth%2fdrive%20https%3a%2f%2fwww.googleapis.com%2fauth%2fdrive.photos.readonly%20https%3a%2f%2fwww.googleapis.com%2fauth%2fpeopleapi.readonly\n",
            "\n",
            "Enter your authorization code:\n",
            "··········\n",
            "Mounted at /content/drive/\n"
          ],
          "name": "stdout"
        }
      ]
    },
    {
      "cell_type": "code",
      "metadata": {
        "id": "axnIi5a6Qhwy",
        "colab_type": "code",
        "colab": {}
      },
      "source": [
        "from torchvision.datasets import VisionDataset\n",
        "\n",
        "from PIL import Image\n",
        "\n",
        "import os\n",
        "import os.path\n",
        "import sys\n",
        "\n",
        "\n",
        "def pil_loader(path):\n",
        "\n",
        "    with open(path, 'rb') as f:\n",
        "\n",
        "        img = Image.open(f)\n",
        "        return img.convert('RGB')\n",
        "\n",
        "\n",
        "class ROD(VisionDataset):\n",
        "  \n",
        "    def __init__(self, root, split='real', transform=None, target_transform=None):\n",
        "        super(ROD, self).__init__(root, transform=transform, target_transform=target_transform)\n",
        "\n",
        "\n",
        "        if split not in ['real','synthetic']:\n",
        "          raise ValueError(\"Split not acceptable\")\n",
        "\n",
        "        self.split = split\n",
        "        self.images=[]\n",
        "        self.categories={}\n",
        "\n",
        "        numCat = 0\n",
        "\n",
        "        with open(os.path.join(self.root.split(\"/\")[0], self.split + \".txt\")) as f:\n",
        "          for line in f.read().splitlines():\n",
        "            category = line.split(\"/\")[0]\n",
        "            if category==\"BACKGROUND_Google\":\n",
        "              continue\n",
        "            if category in self.categories:\n",
        "              label = self.categories[category]\n",
        "            else:\n",
        "              self.categories[category] = numCat\n",
        "              label = numCat\n",
        "              numCat = numCat+1\n",
        "            self.images.append(((pil_loader(os.path.join(self.root,line))), label))\n",
        "          \n",
        "\n",
        "    def __getitem__(self, index):\n",
        "\n",
        "        image, label = self.images[index] \n",
        "\n",
        "        if self.transform is not None:\n",
        "\n",
        "            image = self.transform(image)\n",
        "\n",
        "        return image, label\n",
        "\n",
        "    def __len__(self):\n",
        "\n",
        "        length = len(self.images) \n",
        "\n",
        "        return length"
      ],
      "execution_count": 0,
      "outputs": []
    },
    {
      "cell_type": "code",
      "metadata": {
        "id": "8DZEAymBxQhZ",
        "colab_type": "code",
        "outputId": "f9f09859-252a-4fcd-933f-bb7f59df30c4",
        "colab": {
          "base_uri": "https://localhost:8080/",
          "height": 34
        }
      },
      "source": [
        "A = 5\n",
        "print( A)"
      ],
      "execution_count": 0,
      "outputs": [
        {
          "output_type": "stream",
          "text": [
            "5\n"
          ],
          "name": "stdout"
        }
      ]
    },
    {
      "cell_type": "markdown",
      "metadata": {
        "id": "19ncNYfRQEuY",
        "colab_type": "text"
      },
      "source": [
        "#VITTORIO"
      ]
    },
    {
      "cell_type": "code",
      "metadata": {
        "id": "D1HK8SFjY-dx",
        "colab_type": "code",
        "outputId": "1d1b9282-48a5-4069-971d-d53a714c1ec3",
        "colab": {
          "base_uri": "https://localhost:8080/",
          "height": 102
        }
      },
      "source": [
        "!find \"/content/drive/.shortcut-targets-by-id/16wqOZSiZTtePcpIKmKI-vbC315ABUVuk/RGB Project/ROD/ROD_rgb/\" -iname *56_crop.png | head -5"
      ],
      "execution_count": 0,
      "outputs": [
        {
          "output_type": "stream",
          "text": [
            "/content/drive/.shortcut-targets-by-id/16wqOZSiZTtePcpIKmKI-vbC315ABUVuk/RGB Project/ROD/ROD_rgb/rubber_eraser/rubber_eraser_3/rubber_eraser_3_4_256_crop.png\n",
            "/content/drive/.shortcut-targets-by-id/16wqOZSiZTtePcpIKmKI-vbC315ABUVuk/RGB Project/ROD/ROD_rgb/rubber_eraser/rubber_eraser_3/rubber_eraser_3_4_56_crop.png\n",
            "/content/drive/.shortcut-targets-by-id/16wqOZSiZTtePcpIKmKI-vbC315ABUVuk/RGB Project/ROD/ROD_rgb/toothbrush/toothbrush_1/toothbrush_1_2_156_crop.png\n",
            "/content/drive/.shortcut-targets-by-id/16wqOZSiZTtePcpIKmKI-vbC315ABUVuk/RGB Project/ROD/ROD_rgb/toothbrush/toothbrush_1/toothbrush_1_1_156_crop.png\n",
            "/content/drive/.shortcut-targets-by-id/16wqOZSiZTtePcpIKmKI-vbC315ABUVuk/RGB Project/ROD/ROD_rgb/toothbrush/toothbrush_1/toothbrush_1_1_56_crop.png\n"
          ],
          "name": "stdout"
        }
      ]
    },
    {
      "cell_type": "markdown",
      "metadata": {
        "id": "WOrW18rDVSjo",
        "colab_type": "text"
      },
      "source": [
        "## Rotation transformation\n",
        "\n",
        "Source: https://pytorch.org/docs/stable/torchvision/transforms.html"
      ]
    },
    {
      "cell_type": "code",
      "metadata": {
        "id": "xoR2m0QG7XAq",
        "colab_type": "code",
        "colab": {}
      },
      "source": [
        "import torchvision.transforms.functional as TF\n",
        "import random\n",
        "import numpy as np\n",
        "\n",
        "\n",
        "def coupled_rotation(image_tuple, label):\n",
        "\n",
        "  def one_hot(n):\n",
        "    oen = np.zeros(4)\n",
        "    oen[n] = 1\n",
        "    return oen\n",
        "\n",
        "  j = random.randint(0,3)\n",
        "  k = random.randint(0,3)\n",
        "\n",
        "  z = one_hot((k-j) % 4)\n",
        "\n",
        "  # Note: TF.rotate is counter-clockwise\n",
        "  rotated_image_tuple = TF.rotate(image_tuple[0], 270*j), TF.rotate(image_tuple[1], 270*k)\n",
        "\n",
        "  return rotated_image_tuple, z"
      ],
      "execution_count": 0,
      "outputs": []
    },
    {
      "cell_type": "markdown",
      "metadata": {
        "id": "3pTkgSdOltHo",
        "colab_type": "text"
      },
      "source": [
        "**TEST**"
      ]
    },
    {
      "cell_type": "code",
      "metadata": {
        "id": "ydf5MOy-d0em",
        "colab_type": "code",
        "outputId": "bee24035-5a41-4288-c159-536571caa95a",
        "colab": {
          "base_uri": "https://localhost:8080/",
          "height": 74
        }
      },
      "source": [
        "img_path_a = '/content/drive/.shortcut-targets-by-id/16wqOZSiZTtePcpIKmKI-vbC315ABUVuk/RGB Project/ROD/ROD_rgb/rubber_eraser/rubber_eraser_3/rubber_eraser_3_4_56_crop.png'\n",
        "a = Image.open(img_path_a).convert('RGB')\n",
        "\n",
        "display(a)"
      ],
      "execution_count": 0,
      "outputs": [
        {
          "output_type": "display_data",
          "data": {
            "image/png": "[encoded data removed]",
            "text/plain": [
              "<PIL.Image.Image image mode=RGB size=57x57 at 0x7FE122E309E8>"
            ]
          },
          "metadata": {
            "tags": []
          }
        }
      ]
    },
    {
      "cell_type": "code",
      "metadata": {
        "id": "9uvKLg8PgraY",
        "colab_type": "code",
        "outputId": "2f35c12a-1f64-4a55-f5e1-99d87111b7bf",
        "colab": {
          "base_uri": "https://localhost:8080/",
          "height": 165
        }
      },
      "source": [
        "from IPython.display import display # to display images\n",
        "\n",
        "rit, z = coupled_rotation((a,a), 'label')\n",
        "display(rit[0])\n",
        "display(rit[1])\n",
        "print('\"How many times should the first image be rotated by 90 degrees clockwise to align with the second?\"')\n",
        "print(f'{np.argmax(z)} time(s), i.e. relative rotation of {np.argmax(z) * 90} degrees, one hot encoded {z}')"
      ],
      "execution_count": 0,
      "outputs": [
        {
          "output_type": "display_data",
          "data": {
            "image/png": "[encoded data removed]",
            "text/plain": [
              "<PIL.Image.Image image mode=RGB size=57x57 at 0x7FE1230B4EF0>"
            ]
          },
          "metadata": {
            "tags": []
          }
        },
        {
          "output_type": "display_data",
          "data": {
            "image/png": "[encoded data removed]",
            "text/plain": [
              "<PIL.Image.Image image mode=RGB size=57x57 at 0x7FE1230B4470>"
            ]
          },
          "metadata": {
            "tags": []
          }
        },
        {
          "output_type": "stream",
          "text": [
            "\"How many times should the first image be rotated by 90 degrees clockwise to align with the second?\"\n",
            "0 time(s), i.e. relative rotation of 0 degrees, one hot encoded [1. 0. 0. 0.]\n"
          ],
          "name": "stdout"
        }
      ]
    },
    {
      "cell_type": "markdown",
      "metadata": {
        "id": "RNhEEUyzQE0f",
        "colab_type": "text"
      },
      "source": [
        "#EMANUELE"
      ]
    },
    {
      "cell_type": "code",
      "metadata": {
        "id": "mLp6eggsQFxn",
        "colab_type": "code",
        "colab": {}
      },
      "source": [
        "from torchvision import models\n",
        "import torch\n",
        "import torch.nn as nn"
      ],
      "execution_count": 0,
      "outputs": []
    },
    {
      "cell_type": "code",
      "metadata": {
        "id": "2cRVLzuKsTB3",
        "colab_type": "code",
        "colab": {}
      },
      "source": [
        "class MyModel (nn.Module):\n",
        "  def __init__(self):\n",
        "    super(MyModel, self).__init__()\n",
        "    self.resnet18 = models.resnet18(pretrained=True)\n",
        "    self.depthFeatureExtractor = nn.Sequential(*(list(self.resnet18.children())[:-2])) # Eliminate last fc and avg pool\n",
        "    self.rgbFeatureExtractor = nn.Sequential(*(list(self.resnet18.children())[:-2])) # Eliminate last fc and avg pool\n",
        "    \n",
        "    self.mainHead = nn.Sequential(\n",
        "        nn.AdaptiveAvgPool2d((1, 1)), # output has shape (batch_size, num_featues, 1, 1)\n",
        "        nn.Linear(512 , 1000),        # wants first dimension = batch_size\n",
        "                                      # In resnet18 it is 512 * block.expansion -> ???\n",
        "        nn.BatchNorm1d(num_features=1000),\n",
        "        nn.Relu(),\n",
        "        nn.Linear(1000, NUM_CLASSES),\n",
        "        nn.Softmax()\n",
        "    )\n",
        "\n",
        "    self.pretextHead = nn.Sequential(\n",
        "        nn.Conv2d(in_channels=512, out_channels=100, kernel_size=(1,1), bias=True), # output img = 100 channels of 7x7\n",
        "        nn.BatchNorm2d(num_features=100),\n",
        "        nn.Relu(),\n",
        "        nn.Conv2d(in_channels=100, out_channels=100, kernel_size=(3,3), bias=True), # output img = 100 channels of 98x98\n",
        "        nn.BatchNorm2d(num_features=100),\n",
        "        nn.Relu(),\n",
        "        nn.Linear(100*98*98, 100),\n",
        "        nn.BatchNorm1d(num_features=100),\n",
        "        nn.Relu(),\n",
        "        nn.Linear(100, 4),\n",
        "        nn.Softmax()\n",
        "    )\n",
        "\n",
        "\n",
        "  def forward(self, x, task): # x is the batch\n",
        "    self.rgbFeatures = self.rgbFeatureExtractor(x) # list of rgb filters of the batch (list_size = batch_size)\n",
        "    self.depthFeatures = self.depthFeatureExtractor(x) \n",
        "    self.allFeatures=torch.cat((self.depthFeatures, self.rgbFeatures),1) # To check: concatenate along right direction? \n",
        "                                                          # size_allFeatures = (batch_size, number_filters, height, width)\n",
        "                                                          # number_filters = 512\n",
        "                                                          # height = width = 7 if input of network is 224x224\n",
        "    if (task == 'head'): # S in the paper\n",
        "      out1 = self.mainHead[0](allFeatures)\n",
        "      out1 = torch.flatten(out1, 1)  # size = batch_size, num_features*h*w \n",
        "      out1 = self.mainHead[1](out1)\n",
        "      out1 = self.mainHead[2](out1)\n",
        "      out1 = self.mainHead[3](out1)\n",
        "      out1 = self.mainHead[4](out1)\n",
        "      class_scores = self.mainHead[5](out1) # class scores of the batch\n",
        "      return class_scores\n",
        "\n",
        "    else: # Stilda, Tdilda, T in the paper\n",
        "      out2 = self.pretextHead[0](allFeatures)\n",
        "      out2 = self.pretextHead[1](out2)\n",
        "      out2 = self.pretextHead[2](out2)\n",
        "      out2 = self.pretextHead[3](out2)\n",
        "      out2 = self.pretextHead[4](out2)\n",
        "      out2 = self.pretextHead[5](out2)\n",
        "      out2 = torch.flatten(out2, 1)\n",
        "      out2 = self.pretextHead[6](out2)\n",
        "      out2 = self.pretextHead[7](out2)\n",
        "      out2 = self.pretextHead[8](out2)\n",
        "      out2 = self.pretextHead[9](out2)\n",
        "      rotation_scores = self.pretextHead[10](out2)\n",
        "      return rotation_scores"
      ],
      "execution_count": 0,
      "outputs": []
    }
  ]
}